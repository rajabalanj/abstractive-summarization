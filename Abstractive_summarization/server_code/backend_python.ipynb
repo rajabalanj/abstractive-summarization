{
  "nbformat": 4,
  "nbformat_minor": 0,
  "metadata": {
    "colab": {
      "provenance": []
    },
    "kernelspec": {
      "name": "python3",
      "display_name": "Python 3"
    },
    "language_info": {
      "name": "python"
    }
  },
  "cells": [
    {
      "cell_type": "markdown",
      "source": [
        "**Install necessary packages**"
      ],
      "metadata": {
        "id": "GcbBRBmxjlyn"
      }
    },
    {
      "cell_type": "code",
      "execution_count": 1,
      "metadata": {
        "id": "CASOgDHNifjA",
        "colab": {
          "base_uri": "https://localhost:8080/",
          "height": 745
        },
        "outputId": "c58ab45b-fa88-4dcf-c01a-9d620d7aa5f6"
      },
      "outputs": [
        {
          "output_type": "stream",
          "name": "stdout",
          "text": [
            "Looking in indexes: https://pypi.org/simple, https://us-python.pkg.dev/colab-wheels/public/simple/\n",
            "Requirement already satisfied: anvil-uplink in /usr/local/lib/python3.8/dist-packages (0.4.1)\n",
            "Collecting argparse\n",
            "  Using cached argparse-1.4.0-py2.py3-none-any.whl (23 kB)\n",
            "Requirement already satisfied: ws4py in /usr/local/lib/python3.8/dist-packages (from anvil-uplink) (0.5.1)\n",
            "Requirement already satisfied: six in /usr/local/lib/python3.8/dist-packages (from anvil-uplink) (1.15.0)\n",
            "Requirement already satisfied: future in /usr/local/lib/python3.8/dist-packages (from anvil-uplink) (0.16.0)\n",
            "Installing collected packages: argparse\n",
            "Successfully installed argparse-1.4.0\n"
          ]
        },
        {
          "output_type": "display_data",
          "data": {
            "application/vnd.colab-display-data+json": {
              "pip_warning": {
                "packages": [
                  "argparse"
                ]
              }
            }
          },
          "metadata": {}
        },
        {
          "output_type": "stream",
          "name": "stdout",
          "text": [
            "Looking in indexes: https://pypi.org/simple, https://us-python.pkg.dev/colab-wheels/public/simple/\n",
            "Requirement already satisfied: transformers in /usr/local/lib/python3.8/dist-packages (4.25.1)\n",
            "Requirement already satisfied: packaging>=20.0 in /usr/local/lib/python3.8/dist-packages (from transformers) (21.3)\n",
            "Requirement already satisfied: regex!=2019.12.17 in /usr/local/lib/python3.8/dist-packages (from transformers) (2022.6.2)\n",
            "Requirement already satisfied: huggingface-hub<1.0,>=0.10.0 in /usr/local/lib/python3.8/dist-packages (from transformers) (0.11.1)\n",
            "Requirement already satisfied: tokenizers!=0.11.3,<0.14,>=0.11.1 in /usr/local/lib/python3.8/dist-packages (from transformers) (0.13.2)\n",
            "Requirement already satisfied: requests in /usr/local/lib/python3.8/dist-packages (from transformers) (2.25.1)\n",
            "Requirement already satisfied: tqdm>=4.27 in /usr/local/lib/python3.8/dist-packages (from transformers) (4.64.1)\n",
            "Requirement already satisfied: filelock in /usr/local/lib/python3.8/dist-packages (from transformers) (3.9.0)\n",
            "Requirement already satisfied: numpy>=1.17 in /usr/local/lib/python3.8/dist-packages (from transformers) (1.21.6)\n",
            "Requirement already satisfied: pyyaml>=5.1 in /usr/local/lib/python3.8/dist-packages (from transformers) (6.0)\n",
            "Requirement already satisfied: typing-extensions>=3.7.4.3 in /usr/local/lib/python3.8/dist-packages (from huggingface-hub<1.0,>=0.10.0->transformers) (4.4.0)\n",
            "Requirement already satisfied: pyparsing!=3.0.5,>=2.0.2 in /usr/local/lib/python3.8/dist-packages (from packaging>=20.0->transformers) (3.0.9)\n",
            "Requirement already satisfied: urllib3<1.27,>=1.21.1 in /usr/local/lib/python3.8/dist-packages (from requests->transformers) (1.24.3)\n",
            "Requirement already satisfied: certifi>=2017.4.17 in /usr/local/lib/python3.8/dist-packages (from requests->transformers) (2022.12.7)\n",
            "Requirement already satisfied: chardet<5,>=3.0.2 in /usr/local/lib/python3.8/dist-packages (from requests->transformers) (4.0.0)\n",
            "Requirement already satisfied: idna<3,>=2.5 in /usr/local/lib/python3.8/dist-packages (from requests->transformers) (2.10)\n",
            "Looking in indexes: https://pypi.org/simple, https://us-python.pkg.dev/colab-wheels/public/simple/\n",
            "Requirement already satisfied: docx2txt in /usr/local/lib/python3.8/dist-packages (0.8)\n",
            "Looking in indexes: https://pypi.org/simple, https://us-python.pkg.dev/colab-wheels/public/simple/\n",
            "Requirement already satisfied: pdfplumber in /usr/local/lib/python3.8/dist-packages (0.7.6)\n",
            "Requirement already satisfied: Wand>=0.6.10 in /usr/local/lib/python3.8/dist-packages (from pdfplumber) (0.6.11)\n",
            "Requirement already satisfied: Pillow>=9.1 in /usr/local/lib/python3.8/dist-packages (from pdfplumber) (9.4.0)\n",
            "Requirement already satisfied: pdfminer.six==20221105 in /usr/local/lib/python3.8/dist-packages (from pdfplumber) (20221105)\n",
            "Requirement already satisfied: cryptography>=36.0.0 in /usr/local/lib/python3.8/dist-packages (from pdfminer.six==20221105->pdfplumber) (39.0.0)\n",
            "Requirement already satisfied: charset-normalizer>=2.0.0 in /usr/local/lib/python3.8/dist-packages (from pdfminer.six==20221105->pdfplumber) (2.1.1)\n",
            "Requirement already satisfied: cffi>=1.12 in /usr/local/lib/python3.8/dist-packages (from cryptography>=36.0.0->pdfminer.six==20221105->pdfplumber) (1.15.1)\n",
            "Requirement already satisfied: pycparser in /usr/local/lib/python3.8/dist-packages (from cffi>=1.12->cryptography>=36.0.0->pdfminer.six==20221105->pdfplumber) (2.21)\n"
          ]
        }
      ],
      "source": [
        "!pip install anvil-uplink\n",
        "!pip install transformers\n",
        "!pip install docx2txt\n",
        "!pip install pdfplumber"
      ]
    },
    {
      "cell_type": "code",
      "source": [
        "!pip install torch==1.8.2+cu111 torchvision==0.9.2+cu111 torchaudio===0.8.2 -f https://download.pytorch.org/whl/lts/1.8/torch_lts.html"
      ],
      "metadata": {
        "colab": {
          "base_uri": "https://localhost:8080/"
        },
        "id": "lVKs0f5vl08h",
        "outputId": "712869d8-618d-40b1-8010-ec27340340f0"
      },
      "execution_count": 2,
      "outputs": [
        {
          "output_type": "stream",
          "name": "stdout",
          "text": [
            "Looking in indexes: https://pypi.org/simple, https://us-python.pkg.dev/colab-wheels/public/simple/\n",
            "Looking in links: https://download.pytorch.org/whl/lts/1.8/torch_lts.html\n",
            "Requirement already satisfied: torch==1.8.2+cu111 in /usr/local/lib/python3.8/dist-packages (1.8.2+cu111)\n",
            "Requirement already satisfied: torchvision==0.9.2+cu111 in /usr/local/lib/python3.8/dist-packages (0.9.2+cu111)\n",
            "Requirement already satisfied: torchaudio===0.8.2 in /usr/local/lib/python3.8/dist-packages (0.8.2)\n",
            "Requirement already satisfied: typing-extensions in /usr/local/lib/python3.8/dist-packages (from torch==1.8.2+cu111) (4.4.0)\n",
            "Requirement already satisfied: numpy in /usr/local/lib/python3.8/dist-packages (from torch==1.8.2+cu111) (1.21.6)\n",
            "Requirement already satisfied: pillow>=4.1.1 in /usr/local/lib/python3.8/dist-packages (from torchvision==0.9.2+cu111) (9.4.0)\n"
          ]
        }
      ]
    },
    {
      "cell_type": "code",
      "source": [
        "!pip install transformers\n",
        "!pip install docx2txt\n",
        "!pip install anvil-uplink\n",
        "!pip install pdfplumber\n",
        "import anvil.server\n",
        "\n",
        "from bs4 import BeautifulSoup\n",
        "import docx2txt\n",
        "from transformers import pipeline\n",
        "\n",
        "summarizer = pipeline(\"summarization\")"
      ],
      "metadata": {
        "id": "BHd9Gu-Sdy5I",
        "colab": {
          "base_uri": "https://localhost:8080/"
        },
        "outputId": "c8afc14a-b530-4141-88a3-ce8f023cd4c6"
      },
      "execution_count": null,
      "outputs": [
        {
          "output_type": "stream",
          "name": "stdout",
          "text": [
            "Looking in indexes: https://pypi.org/simple, https://us-python.pkg.dev/colab-wheels/public/simple/\n",
            "Requirement already satisfied: transformers in /usr/local/lib/python3.8/dist-packages (4.25.1)\n",
            "Requirement already satisfied: regex!=2019.12.17 in /usr/local/lib/python3.8/dist-packages (from transformers) (2022.6.2)\n",
            "Requirement already satisfied: huggingface-hub<1.0,>=0.10.0 in /usr/local/lib/python3.8/dist-packages (from transformers) (0.11.1)\n",
            "Requirement already satisfied: filelock in /usr/local/lib/python3.8/dist-packages (from transformers) (3.9.0)\n",
            "Requirement already satisfied: packaging>=20.0 in /usr/local/lib/python3.8/dist-packages (from transformers) (21.3)\n",
            "Requirement already satisfied: tqdm>=4.27 in /usr/local/lib/python3.8/dist-packages (from transformers) (4.64.1)\n",
            "Requirement already satisfied: requests in /usr/local/lib/python3.8/dist-packages (from transformers) (2.25.1)\n",
            "Requirement already satisfied: pyyaml>=5.1 in /usr/local/lib/python3.8/dist-packages (from transformers) (6.0)\n",
            "Requirement already satisfied: tokenizers!=0.11.3,<0.14,>=0.11.1 in /usr/local/lib/python3.8/dist-packages (from transformers) (0.13.2)\n",
            "Requirement already satisfied: numpy>=1.17 in /usr/local/lib/python3.8/dist-packages (from transformers) (1.21.6)\n",
            "Requirement already satisfied: typing-extensions>=3.7.4.3 in /usr/local/lib/python3.8/dist-packages (from huggingface-hub<1.0,>=0.10.0->transformers) (4.4.0)\n",
            "Requirement already satisfied: pyparsing!=3.0.5,>=2.0.2 in /usr/local/lib/python3.8/dist-packages (from packaging>=20.0->transformers) (3.0.9)\n",
            "Requirement already satisfied: chardet<5,>=3.0.2 in /usr/local/lib/python3.8/dist-packages (from requests->transformers) (4.0.0)\n",
            "Requirement already satisfied: idna<3,>=2.5 in /usr/local/lib/python3.8/dist-packages (from requests->transformers) (2.10)\n",
            "Requirement already satisfied: certifi>=2017.4.17 in /usr/local/lib/python3.8/dist-packages (from requests->transformers) (2022.12.7)\n",
            "Requirement already satisfied: urllib3<1.27,>=1.21.1 in /usr/local/lib/python3.8/dist-packages (from requests->transformers) (1.24.3)\n"
          ]
        }
      ]
    },
    {
      "cell_type": "markdown",
      "source": [
        "**Import packages**"
      ],
      "metadata": {
        "id": "GN_Te4yJjtmp"
      }
    },
    {
      "cell_type": "code",
      "source": [
        "import anvil.server\n",
        "\n",
        "from bs4 import BeautifulSoup\n",
        "import docx2txt\n",
        "from transformers import pipeline\n",
        "import requests\n",
        "import pdfplumber"
      ],
      "metadata": {
        "id": "l4NLKUUDi_H0"
      },
      "execution_count": null,
      "outputs": []
    },
    {
      "cell_type": "markdown",
      "source": [
        "**Load model**"
      ],
      "metadata": {
        "id": "CY6rQL4Vjywp"
      }
    },
    {
      "cell_type": "code",
      "source": [
        "summarizer = pipeline(\"summarization\")"
      ],
      "metadata": {
        "id": "FHeV_Al0jSIz"
      },
      "execution_count": null,
      "outputs": []
    },
    {
      "cell_type": "markdown",
      "source": [
        "**Connet with anvil**"
      ],
      "metadata": {
        "id": "3vThJAnMkCQY"
      }
    },
    {
      "cell_type": "code",
      "source": [
        "anvil.server.connect('U5ZALWW3SL2TBJHC6BYXFCSL-7Q36I7VBIV4PEZDG')"
      ],
      "metadata": {
        "id": "-rfqX4u_kBI0"
      },
      "execution_count": null,
      "outputs": []
    },
    {
      "cell_type": "markdown",
      "source": [
        "**Abstractive summarization**"
      ],
      "metadata": {
        "id": "T09yaoYykNkq"
      }
    },
    {
      "cell_type": "code",
      "source": [
        "@anvil.server.callable\n",
        "def abstractive_summmary(user_input,percentage):\n",
        "  max_chunk = 500\n",
        "  user_input = user_input.replace('.', '.<eos>')\n",
        "  user_input = user_input.replace('?', '?<eos>')\n",
        "  user_input = user_input.replace('!', '!<eos>')\n",
        "  sentences = user_input.split('<eos>')\n",
        "  words = len(user_input.split(' '))\n",
        "  current_chunk = 0 \n",
        "  chunks = []\n",
        "\n",
        "  for sentence in sentences:\n",
        "    if len(chunks) == current_chunk + 1: \n",
        "        if len(chunks[current_chunk]) + len(sentence.split(' ')) <= max_chunk:\n",
        "            chunks[current_chunk].extend(sentence.split(' '))\n",
        "        else:\n",
        "            current_chunk += 1\n",
        "            chunks.append(sentence.split(' '))\n",
        "    else:\n",
        "        chunks.append(sentence.split(' '))\n",
        "\n",
        "  for chunk_id in range(len(chunks)):\n",
        "    chunks[chunk_id] = ' '.join(chunks[chunk_id])\n",
        "  res = summarizer(chunks, max_length=words//len(chunks) , min_length=(words*percentage//100)//len(chunks), do_sample=False)\n",
        "  text = ' '.join([summ['summary_text'] for summ in res])\n",
        "  result = [text,len(user_input.split(' ')),len(text.split(' '))]\n",
        "  return result  "
      ],
      "metadata": {
        "id": "25NJJU-zjdfD"
      },
      "execution_count": null,
      "outputs": []
    },
    {
      "cell_type": "markdown",
      "source": [
        "**Web scraping**"
      ],
      "metadata": {
        "id": "qwP2_D3ukoN6"
      }
    },
    {
      "cell_type": "code",
      "source": [
        "@anvil.server.callable\n",
        "def web_page_summary(url):\n",
        "  r = requests.get(url)\n",
        "  soup = BeautifulSoup(r.text, 'html.parser')\n",
        "  results = soup.find_all('p')\n",
        "  text = [result.text for result in results]\n",
        "  user_input = ' '.join(text)\n",
        "  return user_input"
      ],
      "metadata": {
        "id": "YGJRzHj7kgYH"
      },
      "execution_count": null,
      "outputs": []
    },
    {
      "cell_type": "markdown",
      "source": [
        "**Extract text from DOCX**"
      ],
      "metadata": {
        "id": "q_G7OSvtlY7e"
      }
    },
    {
      "cell_type": "code",
      "source": [
        "@anvil.server.callable\n",
        "def docx(media,a):\n",
        "  with open(f\"/tmp/{a}\", \"wb\") as f:\n",
        "      f.write(media.get_bytes())\n",
        "  txt_file = docx2txt.process(f\"/tmp/{a}\")\n",
        "  txt_file = txt_file.replace('\\n','')  \n",
        "  return txt_file"
      ],
      "metadata": {
        "id": "g-IAoOjMYj2V"
      },
      "execution_count": null,
      "outputs": []
    },
    {
      "cell_type": "markdown",
      "source": [
        "**Extract text from PDF**"
      ],
      "metadata": {
        "id": "DOzNmU1bliAr"
      }
    },
    {
      "cell_type": "code",
      "source": [
        "@anvil.server.callable\n",
        "def pdf1(media,a):\n",
        "  with open(f\"/tmp/{a}\", \"wb\") as f:\n",
        "      f.write(media.get_bytes())\n",
        "  pdfreader = PyPDF2.PdfFileReader(f\"/tmp/{a}\")\n",
        "  x = pdfreader.numPages\n",
        "  text = \"\"\n",
        "  for i in range(x):\n",
        "    pageobj = pdfreader.getPage(i)\n",
        "    text += pageobj.extractText()\n",
        "  text1 = text.replace('\\n','')\n",
        "  return text1"
      ],
      "metadata": {
        "id": "SWgN0Y5dZian"
      },
      "execution_count": null,
      "outputs": []
    },
    {
      "cell_type": "code",
      "source": [
        "@anvil.server.callable\n",
        "def pdf(media,a):\n",
        "  with open(f\"/tmp/{a}\", \"wb\") as f:\n",
        "      f.write(media.get_bytes())\n",
        "  text = \"\"\n",
        "  with pdfplumber.open(f\"/tmp/{a}\") as pdf:\n",
        "    no_of_pages = len(pdf.pages)\n",
        "    for i in range(no_of_pages):\n",
        "      content = pdf.pages[i].extract_text()\n",
        "      text += content\n",
        "      text = text.replace(\"\\n\",\" \")\n",
        "    return text\n"
      ],
      "metadata": {
        "id": "hMSUqOzFn1oU"
      },
      "execution_count": null,
      "outputs": []
    }
  ]
}